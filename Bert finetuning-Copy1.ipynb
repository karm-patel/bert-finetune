{
 "cells": [
  {
   "cell_type": "code",
   "execution_count": 165,
   "id": "4e02b46a",
   "metadata": {},
   "outputs": [],
   "source": [
    "import os\n",
    "import pandas as pd\n",
    "import numpy as np\n",
    "import transformers\n",
    "import torch\n",
    "import torch.nn as nn\n",
    "from torch.utils.data import Dataset\n",
    "from torch.utils.data import DataLoader\n",
    "import torch.optim as optim\n",
    "import torch.nn.functional as F\n",
    "from torchsummary import summary\n",
    "from torchmetrics import Accuracy, F1Score\n",
    "from tqdm import tqdm\n",
    "\n",
    "pd.set_option('display.max_colwidth', None)\n",
    "RAW_DATASET_DIR = \"raw_datasets/SST_2\""
   ]
  },
  {
   "cell_type": "code",
   "execution_count": 166,
   "id": "06ded53b",
   "metadata": {},
   "outputs": [
    {
     "data": {
      "text/plain": [
       "device(type='cuda')"
      ]
     },
     "execution_count": 166,
     "metadata": {},
     "output_type": "execute_result"
    }
   ],
   "source": [
    "device = torch.device(\"cuda\" if torch.cuda.is_available() else \"cpu\")\n",
    "cpu_device = torch.device(\"cpu\")\n",
    "device"
   ]
  },
  {
   "cell_type": "code",
   "execution_count": 167,
   "id": "cd07e634",
   "metadata": {},
   "outputs": [
    {
     "data": {
      "text/html": [
       "<div>\n",
       "<style scoped>\n",
       "    .dataframe tbody tr th:only-of-type {\n",
       "        vertical-align: middle;\n",
       "    }\n",
       "\n",
       "    .dataframe tbody tr th {\n",
       "        vertical-align: top;\n",
       "    }\n",
       "\n",
       "    .dataframe thead th {\n",
       "        text-align: right;\n",
       "    }\n",
       "</style>\n",
       "<table border=\"1\" class=\"dataframe\">\n",
       "  <thead>\n",
       "    <tr style=\"text-align: right;\">\n",
       "      <th></th>\n",
       "      <th>0</th>\n",
       "      <th>1</th>\n",
       "    </tr>\n",
       "  </thead>\n",
       "  <tbody>\n",
       "    <tr>\n",
       "      <th>0</th>\n",
       "      <td>a stirring , funny and finally transporting re imagining of beauty and the beast and 1930s horror films</td>\n",
       "      <td>1</td>\n",
       "    </tr>\n",
       "    <tr>\n",
       "      <th>1</th>\n",
       "      <td>apparently reassembled from the cutting room floor of any given daytime soap</td>\n",
       "      <td>0</td>\n",
       "    </tr>\n",
       "    <tr>\n",
       "      <th>2</th>\n",
       "      <td>they presume their audience wo n't sit still for a sociology lesson , however entertainingly presented , so they trot out the conventional science fiction elements of bug eyed monsters and futuristic women in skimpy clothes</td>\n",
       "      <td>0</td>\n",
       "    </tr>\n",
       "    <tr>\n",
       "      <th>3</th>\n",
       "      <td>this is a visually stunning rumination on love , memory , history and the war between art and commerce</td>\n",
       "      <td>1</td>\n",
       "    </tr>\n",
       "    <tr>\n",
       "      <th>4</th>\n",
       "      <td>jonathan parker 's bartleby should have been the be all end all of the modern office anomie films</td>\n",
       "      <td>1</td>\n",
       "    </tr>\n",
       "    <tr>\n",
       "      <th>...</th>\n",
       "      <td>...</td>\n",
       "      <td>...</td>\n",
       "    </tr>\n",
       "    <tr>\n",
       "      <th>6915</th>\n",
       "      <td>painful , horrifying and oppressively tragic , this film should not be missed</td>\n",
       "      <td>1</td>\n",
       "    </tr>\n",
       "    <tr>\n",
       "      <th>6916</th>\n",
       "      <td>take care is nicely performed by a quintet of actresses , but nonetheless it drags during its 112 minute length</td>\n",
       "      <td>0</td>\n",
       "    </tr>\n",
       "    <tr>\n",
       "      <th>6917</th>\n",
       "      <td>the script covers huge , heavy topics in a bland , surfacey way that does n't offer any insight into why , for instance , good things happen to bad people</td>\n",
       "      <td>0</td>\n",
       "    </tr>\n",
       "    <tr>\n",
       "      <th>6918</th>\n",
       "      <td>a seriously bad film with seriously warped logic by writer director kurt wimmer at the screenplay level</td>\n",
       "      <td>0</td>\n",
       "    </tr>\n",
       "    <tr>\n",
       "      <th>6919</th>\n",
       "      <td>a deliciously nonsensical comedy about a city coming apart at its seams</td>\n",
       "      <td>1</td>\n",
       "    </tr>\n",
       "  </tbody>\n",
       "</table>\n",
       "<p>6920 rows × 2 columns</p>\n",
       "</div>"
      ],
      "text/plain": [
       "                                                                                                                                                                                                                                    0  \\\n",
       "0                                                                                                                             a stirring , funny and finally transporting re imagining of beauty and the beast and 1930s horror films   \n",
       "1                                                                                                                                                        apparently reassembled from the cutting room floor of any given daytime soap   \n",
       "2     they presume their audience wo n't sit still for a sociology lesson , however entertainingly presented , so they trot out the conventional science fiction elements of bug eyed monsters and futuristic women in skimpy clothes   \n",
       "3                                                                                                                              this is a visually stunning rumination on love , memory , history and the war between art and commerce   \n",
       "4                                                                                                                                   jonathan parker 's bartleby should have been the be all end all of the modern office anomie films   \n",
       "...                                                                                                                                                                                                                               ...   \n",
       "6915                                                                                                                                                    painful , horrifying and oppressively tragic , this film should not be missed   \n",
       "6916                                                                                                                  take care is nicely performed by a quintet of actresses , but nonetheless it drags during its 112 minute length   \n",
       "6917                                                                       the script covers huge , heavy topics in a bland , surfacey way that does n't offer any insight into why , for instance , good things happen to bad people   \n",
       "6918                                                                                                                          a seriously bad film with seriously warped logic by writer director kurt wimmer at the screenplay level   \n",
       "6919                                                                                                                                                          a deliciously nonsensical comedy about a city coming apart at its seams   \n",
       "\n",
       "      1  \n",
       "0     1  \n",
       "1     0  \n",
       "2     0  \n",
       "3     1  \n",
       "4     1  \n",
       "...  ..  \n",
       "6915  1  \n",
       "6916  0  \n",
       "6917  0  \n",
       "6918  0  \n",
       "6919  1  \n",
       "\n",
       "[6920 rows x 2 columns]"
      ]
     },
     "execution_count": 167,
     "metadata": {},
     "output_type": "execute_result"
    }
   ],
   "source": [
    "df = pd.read_csv('https://github.com/clairett/pytorch-sentiment-classification/raw/master/data/SST2/train.tsv', delimiter='\\t', header=None)\n",
    "df"
   ]
  },
  {
   "cell_type": "code",
   "execution_count": 168,
   "id": "5f11572f",
   "metadata": {},
   "outputs": [
    {
     "name": "stdout",
     "output_type": "stream",
     "text": [
      "67349 872 1821\n"
     ]
    },
    {
     "data": {
      "text/html": [
       "<div>\n",
       "<style scoped>\n",
       "    .dataframe tbody tr th:only-of-type {\n",
       "        vertical-align: middle;\n",
       "    }\n",
       "\n",
       "    .dataframe tbody tr th {\n",
       "        vertical-align: top;\n",
       "    }\n",
       "\n",
       "    .dataframe thead th {\n",
       "        text-align: right;\n",
       "    }\n",
       "</style>\n",
       "<table border=\"1\" class=\"dataframe\">\n",
       "  <thead>\n",
       "    <tr style=\"text-align: right;\">\n",
       "      <th></th>\n",
       "      <th>sentence</th>\n",
       "      <th>label</th>\n",
       "    </tr>\n",
       "  </thead>\n",
       "  <tbody>\n",
       "    <tr>\n",
       "      <th>0</th>\n",
       "      <td>hide new secretions from the parental units</td>\n",
       "      <td>0</td>\n",
       "    </tr>\n",
       "    <tr>\n",
       "      <th>1</th>\n",
       "      <td>contains no wit , only labored gags</td>\n",
       "      <td>0</td>\n",
       "    </tr>\n",
       "    <tr>\n",
       "      <th>2</th>\n",
       "      <td>that loves its characters and communicates something rather beautiful about human nature</td>\n",
       "      <td>1</td>\n",
       "    </tr>\n",
       "    <tr>\n",
       "      <th>3</th>\n",
       "      <td>remains utterly satisfied to remain the same throughout</td>\n",
       "      <td>0</td>\n",
       "    </tr>\n",
       "    <tr>\n",
       "      <th>4</th>\n",
       "      <td>on the worst revenge-of-the-nerds clichés the filmmakers could dredge up</td>\n",
       "      <td>0</td>\n",
       "    </tr>\n",
       "    <tr>\n",
       "      <th>...</th>\n",
       "      <td>...</td>\n",
       "      <td>...</td>\n",
       "    </tr>\n",
       "    <tr>\n",
       "      <th>67344</th>\n",
       "      <td>a delightful comedy</td>\n",
       "      <td>1</td>\n",
       "    </tr>\n",
       "    <tr>\n",
       "      <th>67345</th>\n",
       "      <td>anguish , anger and frustration</td>\n",
       "      <td>0</td>\n",
       "    </tr>\n",
       "    <tr>\n",
       "      <th>67346</th>\n",
       "      <td>at achieving the modest , crowd-pleasing goals it sets for itself</td>\n",
       "      <td>1</td>\n",
       "    </tr>\n",
       "    <tr>\n",
       "      <th>67347</th>\n",
       "      <td>a patient viewer</td>\n",
       "      <td>1</td>\n",
       "    </tr>\n",
       "    <tr>\n",
       "      <th>67348</th>\n",
       "      <td>this new jangle of noise , mayhem and stupidity must be a serious contender for the title .</td>\n",
       "      <td>0</td>\n",
       "    </tr>\n",
       "  </tbody>\n",
       "</table>\n",
       "<p>67349 rows × 2 columns</p>\n",
       "</div>"
      ],
      "text/plain": [
       "                                                                                           sentence  \\\n",
       "0                                                      hide new secretions from the parental units    \n",
       "1                                                              contains no wit , only labored gags    \n",
       "2         that loves its characters and communicates something rather beautiful about human nature    \n",
       "3                                          remains utterly satisfied to remain the same throughout    \n",
       "4                         on the worst revenge-of-the-nerds clichés the filmmakers could dredge up    \n",
       "...                                                                                             ...   \n",
       "67344                                                                          a delightful comedy    \n",
       "67345                                                              anguish , anger and frustration    \n",
       "67346                            at achieving the modest , crowd-pleasing goals it sets for itself    \n",
       "67347                                                                             a patient viewer    \n",
       "67348  this new jangle of noise , mayhem and stupidity must be a serious contender for the title .    \n",
       "\n",
       "       label  \n",
       "0          0  \n",
       "1          0  \n",
       "2          1  \n",
       "3          0  \n",
       "4          0  \n",
       "...      ...  \n",
       "67344      1  \n",
       "67345      0  \n",
       "67346      1  \n",
       "67347      1  \n",
       "67348      0  \n",
       "\n",
       "[67349 rows x 2 columns]"
      ]
     },
     "execution_count": 168,
     "metadata": {},
     "output_type": "execute_result"
    }
   ],
   "source": [
    "df_train = pd.read_csv(os.path.join(RAW_DATASET_DIR, \"train\" + \".tsv\"), delimiter='\\t')\n",
    "df_dev = pd.read_csv(os.path.join(RAW_DATASET_DIR, \"dev\" + \".tsv\"), delimiter='\\t')\n",
    "df_test = pd.read_csv(os.path.join(RAW_DATASET_DIR, \"test\" + \".tsv\"), delimiter='\\t')\n",
    "\n",
    "print(len(df_train), len(df_dev), len(df_test))\n",
    "df_train"
   ]
  },
  {
   "cell_type": "code",
   "execution_count": 169,
   "id": "da67d4bc",
   "metadata": {},
   "outputs": [
    {
     "data": {
      "text/html": [
       "<div>\n",
       "<style scoped>\n",
       "    .dataframe tbody tr th:only-of-type {\n",
       "        vertical-align: middle;\n",
       "    }\n",
       "\n",
       "    .dataframe tbody tr th {\n",
       "        vertical-align: top;\n",
       "    }\n",
       "\n",
       "    .dataframe thead th {\n",
       "        text-align: right;\n",
       "    }\n",
       "</style>\n",
       "<table border=\"1\" class=\"dataframe\">\n",
       "  <thead>\n",
       "    <tr style=\"text-align: right;\">\n",
       "      <th></th>\n",
       "      <th>sentence</th>\n",
       "      <th>label</th>\n",
       "    </tr>\n",
       "  </thead>\n",
       "  <tbody>\n",
       "    <tr>\n",
       "      <th>0</th>\n",
       "      <td>hide new secretions from the parental units</td>\n",
       "      <td>0</td>\n",
       "    </tr>\n",
       "    <tr>\n",
       "      <th>1</th>\n",
       "      <td>contains no wit , only labored gags</td>\n",
       "      <td>0</td>\n",
       "    </tr>\n",
       "    <tr>\n",
       "      <th>2</th>\n",
       "      <td>that loves its characters and communicates something rather beautiful about human nature</td>\n",
       "      <td>1</td>\n",
       "    </tr>\n",
       "    <tr>\n",
       "      <th>3</th>\n",
       "      <td>remains utterly satisfied to remain the same throughout</td>\n",
       "      <td>0</td>\n",
       "    </tr>\n",
       "    <tr>\n",
       "      <th>4</th>\n",
       "      <td>on the worst revenge-of-the-nerds clichés the filmmakers could dredge up</td>\n",
       "      <td>0</td>\n",
       "    </tr>\n",
       "    <tr>\n",
       "      <th>...</th>\n",
       "      <td>...</td>\n",
       "      <td>...</td>\n",
       "    </tr>\n",
       "    <tr>\n",
       "      <th>67344</th>\n",
       "      <td>a delightful comedy</td>\n",
       "      <td>1</td>\n",
       "    </tr>\n",
       "    <tr>\n",
       "      <th>67345</th>\n",
       "      <td>anguish , anger and frustration</td>\n",
       "      <td>0</td>\n",
       "    </tr>\n",
       "    <tr>\n",
       "      <th>67346</th>\n",
       "      <td>at achieving the modest , crowd-pleasing goals it sets for itself</td>\n",
       "      <td>1</td>\n",
       "    </tr>\n",
       "    <tr>\n",
       "      <th>67347</th>\n",
       "      <td>a patient viewer</td>\n",
       "      <td>1</td>\n",
       "    </tr>\n",
       "    <tr>\n",
       "      <th>67348</th>\n",
       "      <td>this new jangle of noise , mayhem and stupidity must be a serious contender for the title .</td>\n",
       "      <td>0</td>\n",
       "    </tr>\n",
       "  </tbody>\n",
       "</table>\n",
       "<p>67349 rows × 2 columns</p>\n",
       "</div>"
      ],
      "text/plain": [
       "                                                                                           sentence  \\\n",
       "0                                                      hide new secretions from the parental units    \n",
       "1                                                              contains no wit , only labored gags    \n",
       "2         that loves its characters and communicates something rather beautiful about human nature    \n",
       "3                                          remains utterly satisfied to remain the same throughout    \n",
       "4                         on the worst revenge-of-the-nerds clichés the filmmakers could dredge up    \n",
       "...                                                                                             ...   \n",
       "67344                                                                          a delightful comedy    \n",
       "67345                                                              anguish , anger and frustration    \n",
       "67346                            at achieving the modest , crowd-pleasing goals it sets for itself    \n",
       "67347                                                                             a patient viewer    \n",
       "67348  this new jangle of noise , mayhem and stupidity must be a serious contender for the title .    \n",
       "\n",
       "       label  \n",
       "0          0  \n",
       "1          0  \n",
       "2          1  \n",
       "3          0  \n",
       "4          0  \n",
       "...      ...  \n",
       "67344      1  \n",
       "67345      0  \n",
       "67346      1  \n",
       "67347      1  \n",
       "67348      0  \n",
       "\n",
       "[67349 rows x 2 columns]"
      ]
     },
     "execution_count": 169,
     "metadata": {},
     "output_type": "execute_result"
    }
   ],
   "source": [
    "df_train"
   ]
  },
  {
   "cell_type": "code",
   "execution_count": 170,
   "id": "175c02f3",
   "metadata": {},
   "outputs": [
    {
     "data": {
      "text/html": [
       "<div>\n",
       "<style scoped>\n",
       "    .dataframe tbody tr th:only-of-type {\n",
       "        vertical-align: middle;\n",
       "    }\n",
       "\n",
       "    .dataframe tbody tr th {\n",
       "        vertical-align: top;\n",
       "    }\n",
       "\n",
       "    .dataframe thead th {\n",
       "        text-align: right;\n",
       "    }\n",
       "</style>\n",
       "<table border=\"1\" class=\"dataframe\">\n",
       "  <thead>\n",
       "    <tr style=\"text-align: right;\">\n",
       "      <th></th>\n",
       "      <th>sentence</th>\n",
       "      <th>label</th>\n",
       "    </tr>\n",
       "  </thead>\n",
       "  <tbody>\n",
       "    <tr>\n",
       "      <th>0</th>\n",
       "      <td>that loves its characters and communicates something rather beautiful about human nature</td>\n",
       "      <td>1</td>\n",
       "    </tr>\n",
       "    <tr>\n",
       "      <th>1</th>\n",
       "      <td>that loves its characters and communicates something rather beautiful about human nature</td>\n",
       "      <td>1</td>\n",
       "    </tr>\n",
       "    <tr>\n",
       "      <th>2</th>\n",
       "      <td>demonstrates that the director of such hollywood blockbusters as patriot games can still turn out a small , personal film with an emotional wallop .</td>\n",
       "      <td>1</td>\n",
       "    </tr>\n",
       "    <tr>\n",
       "      <th>3</th>\n",
       "      <td>demonstrates that the director of such hollywood blockbusters as patriot games can still turn out a small , personal film with an emotional wallop .</td>\n",
       "      <td>1</td>\n",
       "    </tr>\n",
       "    <tr>\n",
       "      <th>4</th>\n",
       "      <td>of saucy</td>\n",
       "      <td>1</td>\n",
       "    </tr>\n",
       "    <tr>\n",
       "      <th>...</th>\n",
       "      <td>...</td>\n",
       "      <td>...</td>\n",
       "    </tr>\n",
       "    <tr>\n",
       "      <th>75133</th>\n",
       "      <td>a delightful comedy</td>\n",
       "      <td>1</td>\n",
       "    </tr>\n",
       "    <tr>\n",
       "      <th>75134</th>\n",
       "      <td>at achieving the modest , crowd-pleasing goals it sets for itself</td>\n",
       "      <td>1</td>\n",
       "    </tr>\n",
       "    <tr>\n",
       "      <th>75135</th>\n",
       "      <td>at achieving the modest , crowd-pleasing goals it sets for itself</td>\n",
       "      <td>1</td>\n",
       "    </tr>\n",
       "    <tr>\n",
       "      <th>75136</th>\n",
       "      <td>a patient viewer</td>\n",
       "      <td>1</td>\n",
       "    </tr>\n",
       "    <tr>\n",
       "      <th>75137</th>\n",
       "      <td>a patient viewer</td>\n",
       "      <td>1</td>\n",
       "    </tr>\n",
       "  </tbody>\n",
       "</table>\n",
       "<p>75138 rows × 2 columns</p>\n",
       "</div>"
      ],
      "text/plain": [
       "                                                                                                                                                    sentence  \\\n",
       "0                                                                  that loves its characters and communicates something rather beautiful about human nature    \n",
       "1                                                                  that loves its characters and communicates something rather beautiful about human nature    \n",
       "2      demonstrates that the director of such hollywood blockbusters as patriot games can still turn out a small , personal film with an emotional wallop .    \n",
       "3      demonstrates that the director of such hollywood blockbusters as patriot games can still turn out a small , personal film with an emotional wallop .    \n",
       "4                                                                                                                                                  of saucy    \n",
       "...                                                                                                                                                      ...   \n",
       "75133                                                                                                                                   a delightful comedy    \n",
       "75134                                                                                     at achieving the modest , crowd-pleasing goals it sets for itself    \n",
       "75135                                                                                     at achieving the modest , crowd-pleasing goals it sets for itself    \n",
       "75136                                                                                                                                      a patient viewer    \n",
       "75137                                                                                                                                      a patient viewer    \n",
       "\n",
       "       label  \n",
       "0          1  \n",
       "1          1  \n",
       "2          1  \n",
       "3          1  \n",
       "4          1  \n",
       "...      ...  \n",
       "75133      1  \n",
       "75134      1  \n",
       "75135      1  \n",
       "75136      1  \n",
       "75137      1  \n",
       "\n",
       "[75138 rows x 2 columns]"
      ]
     },
     "execution_count": 170,
     "metadata": {},
     "output_type": "execute_result"
    }
   ],
   "source": [
    "df_train.loc[df_train[df_train.label == 1].index.repeat(2)].reset_index(drop=True)"
   ]
  },
  {
   "cell_type": "code",
   "execution_count": 5,
   "id": "fc03bad4",
   "metadata": {},
   "outputs": [
    {
     "data": {
      "text/plain": [
       "56"
      ]
     },
     "execution_count": 5,
     "metadata": {},
     "output_type": "execute_result"
    }
   ],
   "source": [
    "max(df_test.apply(lambda x: len(x[\"sentence\"].split()), axis=1))"
   ]
  },
  {
   "cell_type": "code",
   "execution_count": 6,
   "id": "0c215260",
   "metadata": {},
   "outputs": [
    {
     "name": "stdout",
     "output_type": "stream",
     "text": [
      "its spirit of iconoclastic abandon however canned makes for unexpectedly giddy viewing\n",
      "12\n"
     ]
    }
   ],
   "source": [
    "text = df.iloc[110,0]\n",
    "print(text)\n",
    "print(len(text.split()))"
   ]
  },
  {
   "cell_type": "markdown",
   "id": "f7b0e99a",
   "metadata": {},
   "source": [
    "### Word piece tokenizer"
   ]
  },
  {
   "cell_type": "code",
   "execution_count": 174,
   "id": "e14f3870",
   "metadata": {},
   "outputs": [],
   "source": [
    "bert_model_name = \"bert-large-uncased\""
   ]
  },
  {
   "cell_type": "code",
   "execution_count": 175,
   "id": "0cc1be70",
   "metadata": {},
   "outputs": [],
   "source": [
    "from transformers import BertTokenizer\n",
    "tokenizer = BertTokenizer.from_pretrained(bert_model_name)\n",
    "\n",
    "sequence = \"A Titan RTX has 24GB of VRAM\""
   ]
  },
  {
   "cell_type": "code",
   "execution_count": 176,
   "id": "c9017fcd",
   "metadata": {},
   "outputs": [
    {
     "name": "stdout",
     "output_type": "stream",
     "text": [
      "['a', 'titan', 'rt', '##x', 'has', '24', '##gb', 'of', 'vr', '##am']\n"
     ]
    }
   ],
   "source": [
    "tokenized_sequence = tokenizer.tokenize(sequence)\n",
    "print(tokenized_sequence)"
   ]
  },
  {
   "cell_type": "code",
   "execution_count": 177,
   "id": "be3b227c",
   "metadata": {},
   "outputs": [
    {
     "name": "stdout",
     "output_type": "stream",
     "text": [
      "[101, 1037, 16537, 19387, 2595, 2038, 2484, 18259, 1997, 27830, 3286, 102]\n"
     ]
    }
   ],
   "source": [
    "encoded_sequence = tokenizer(sequence)[\"input_ids\"]\n",
    "print(encoded_sequence)"
   ]
  },
  {
   "cell_type": "code",
   "execution_count": 178,
   "id": "0353c3e2",
   "metadata": {},
   "outputs": [
    {
     "name": "stdout",
     "output_type": "stream",
     "text": [
      "[CLS] a titan rtx has 24gb of vram [SEP]\n"
     ]
    }
   ],
   "source": [
    "decoded_sequence = tokenizer.decode(encoded_sequence)\n",
    "print(decoded_sequence)"
   ]
  },
  {
   "cell_type": "code",
   "execution_count": 179,
   "id": "c0022463",
   "metadata": {},
   "outputs": [
    {
     "name": "stderr",
     "output_type": "stream",
     "text": [
      "Truncation was not explicitly activated but `max_length` is provided a specific value, please use `truncation=True` to explicitly truncate examples to max length. Defaulting to 'longest_first' truncation strategy. If you encode pairs of sequences (GLUE-style) with the tokenizer you can select this strategy more precisely by providing a specific strategy to `truncation`.\n",
      "Keyword arguments {'apad_to_max_length': True} not recognized.\n",
      "Keyword arguments {'apad_to_max_length': True} not recognized.\n"
     ]
    },
    {
     "data": {
      "text/plain": [
       "{'input_ids': [101, 2049, 4382, 1997, 12696, 10085, 28723, 10824, 2174, 27141, 3084, 2005, 14153, 21025, 14968, 10523, 102, 2331, 2000, 15488, 9541, 11714, 4136, 1037, 18282, 2100, 2214, 2666, 1010, 2025, 3053, 2004, 11808, 2004, 2009, 6732, 2009, 2003, 8257, 102], 'token_type_ids': [0, 0, 0, 0, 0, 0, 0, 0, 0, 0, 0, 0, 0, 0, 0, 0, 0, 1, 1, 1, 1, 1, 1, 1, 1, 1, 1, 1, 1, 1, 1, 1, 1, 1, 1, 1, 1, 1, 1, 1], 'attention_mask': [1, 1, 1, 1, 1, 1, 1, 1, 1, 1, 1, 1, 1, 1, 1, 1, 1, 1, 1, 1, 1, 1, 1, 1, 1, 1, 1, 1, 1, 1, 1, 1, 1, 1, 1, 1, 1, 1, 1, 1]}"
      ]
     },
     "execution_count": 179,
     "metadata": {},
     "output_type": "execute_result"
    }
   ],
   "source": [
    "tokenizer = transformers.BertTokenizer.from_pretrained(bert_model_name)\n",
    "op = tokenizer.encode_plus(\n",
    "             text, # text\n",
    "            df.iloc[211,0], # text pair\n",
    "            apad_to_max_length=True,\n",
    "            add_special_tokens=True,\n",
    "            return_attention_mask=True,\n",
    "            max_length=56,\n",
    "        )\n",
    "op"
   ]
  },
  {
   "cell_type": "code",
   "execution_count": 180,
   "id": "db793117",
   "metadata": {},
   "outputs": [
    {
     "data": {
      "text/plain": [
       "'[CLS] its spirit of iconoclastic abandon however canned makes for unexpectedly giddy viewing [SEP] death to smoochy tells a moldy oldie, not nearly as nasty as it thinks it is joke [SEP]'"
      ]
     },
     "execution_count": 180,
     "metadata": {},
     "output_type": "execute_result"
    }
   ],
   "source": [
    "tokenizer.decode(op[\"input_ids\"])"
   ]
  },
  {
   "cell_type": "markdown",
   "id": "240c009c",
   "metadata": {},
   "source": [
    "### Dataloader"
   ]
  },
  {
   "cell_type": "code",
   "execution_count": 171,
   "id": "ec2d0cf6",
   "metadata": {},
   "outputs": [],
   "source": [
    "class BertDataset(Dataset):\n",
    "    def __init__(self, tokenizer,max_length, device=torch.device(\"cuda\"), split=\"train\"):\n",
    "        super(BertDataset, self).__init__()\n",
    "        self.data_df=pd.read_csv(os.path.join(RAW_DATASET_DIR, split + \".tsv\"), delimiter='\\t')\n",
    "        self.tokenizer=tokenizer\n",
    "        self.target=self.data_df.iloc[:,1]\n",
    "        self.max_length=max_length\n",
    "        \n",
    "    def __len__(self):\n",
    "        return len(self.data_df)\n",
    "    \n",
    "    def __getitem__(self, index):\n",
    "        \n",
    "        text1 = self.data_df.iloc[index,0].lower()\n",
    "        \n",
    "        inputs = self.tokenizer.encode_plus(\n",
    "            text1 ,\n",
    "            None,\n",
    "            pad_to_max_length=True,\n",
    "            add_special_tokens=True,\n",
    "            return_attention_mask=True,\n",
    "            max_length=self.max_length,\n",
    "        )\n",
    "        ids = inputs[\"input_ids\"]\n",
    "        token_type_ids = inputs[\"token_type_ids\"]\n",
    "        mask = inputs[\"attention_mask\"]\n",
    "\n",
    "        return {\n",
    "            'ids': torch.tensor(ids, dtype=torch.long).to(device),\n",
    "            'mask': torch.tensor(mask, dtype=torch.long).to(device),\n",
    "            'token_type_ids': torch.tensor(token_type_ids, dtype=torch.long).to(device),\n",
    "            'target': torch.tensor(self.data_df.iloc[index, 1], dtype=torch.long).to(device)\n",
    "            }"
   ]
  },
  {
   "cell_type": "code",
   "execution_count": 181,
   "id": "067a0fd1",
   "metadata": {},
   "outputs": [
    {
     "data": {
      "text/plain": [
       "'bert-large-uncased'"
      ]
     },
     "execution_count": 181,
     "metadata": {},
     "output_type": "execute_result"
    }
   ],
   "source": [
    "bert_model_name"
   ]
  },
  {
   "cell_type": "code",
   "execution_count": 172,
   "id": "dbd0f5d0",
   "metadata": {},
   "outputs": [
    {
     "ename": "OSError",
     "evalue": "bert-large-uncased_SST2_3_5e-05_FULL.pt is not a local folder and is not a valid model identifier listed on 'https://huggingface.co/models'\nIf this is a private repository, make sure to pass a token having permission to this repo either by logging in with `huggingface-cli login` or by passing `token=<your_token>`",
     "output_type": "error",
     "traceback": [
      "\u001b[0;31m---------------------------------------------------------------------------\u001b[0m",
      "\u001b[0;31mHTTPError\u001b[0m                                 Traceback (most recent call last)",
      "File \u001b[0;32m~/miniconda3/envs/torch310/lib/python3.11/site-packages/huggingface_hub/utils/_errors.py:261\u001b[0m, in \u001b[0;36mhf_raise_for_status\u001b[0;34m(response, endpoint_name)\u001b[0m\n\u001b[1;32m    260\u001b[0m \u001b[38;5;28;01mtry\u001b[39;00m:\n\u001b[0;32m--> 261\u001b[0m     response\u001b[38;5;241m.\u001b[39mraise_for_status()\n\u001b[1;32m    262\u001b[0m \u001b[38;5;28;01mexcept\u001b[39;00m HTTPError \u001b[38;5;28;01mas\u001b[39;00m e:\n",
      "File \u001b[0;32m~/miniconda3/envs/torch310/lib/python3.11/site-packages/requests/models.py:1021\u001b[0m, in \u001b[0;36mResponse.raise_for_status\u001b[0;34m(self)\u001b[0m\n\u001b[1;32m   1020\u001b[0m \u001b[38;5;28;01mif\u001b[39;00m http_error_msg:\n\u001b[0;32m-> 1021\u001b[0m     \u001b[38;5;28;01mraise\u001b[39;00m HTTPError(http_error_msg, response\u001b[38;5;241m=\u001b[39m\u001b[38;5;28mself\u001b[39m)\n",
      "\u001b[0;31mHTTPError\u001b[0m: 401 Client Error: Unauthorized for url: https://huggingface.co/bert-large-uncased_SST2_3_5e-05_FULL.pt/resolve/main/vocab.txt",
      "\nThe above exception was the direct cause of the following exception:\n",
      "\u001b[0;31mRepositoryNotFoundError\u001b[0m                   Traceback (most recent call last)",
      "File \u001b[0;32m~/miniconda3/envs/torch310/lib/python3.11/site-packages/transformers/utils/hub.py:429\u001b[0m, in \u001b[0;36mcached_file\u001b[0;34m(path_or_repo_id, filename, cache_dir, force_download, resume_download, proxies, token, revision, local_files_only, subfolder, repo_type, user_agent, _raise_exceptions_for_missing_entries, _raise_exceptions_for_connection_errors, _commit_hash, **deprecated_kwargs)\u001b[0m\n\u001b[1;32m    427\u001b[0m \u001b[38;5;28;01mtry\u001b[39;00m:\n\u001b[1;32m    428\u001b[0m     \u001b[38;5;66;03m# Load from URL or cache if already cached\u001b[39;00m\n\u001b[0;32m--> 429\u001b[0m     resolved_file \u001b[38;5;241m=\u001b[39m hf_hub_download(\n\u001b[1;32m    430\u001b[0m         path_or_repo_id,\n\u001b[1;32m    431\u001b[0m         filename,\n\u001b[1;32m    432\u001b[0m         subfolder\u001b[38;5;241m=\u001b[39m\u001b[38;5;28;01mNone\u001b[39;00m \u001b[38;5;28;01mif\u001b[39;00m \u001b[38;5;28mlen\u001b[39m(subfolder) \u001b[38;5;241m==\u001b[39m \u001b[38;5;241m0\u001b[39m \u001b[38;5;28;01melse\u001b[39;00m subfolder,\n\u001b[1;32m    433\u001b[0m         repo_type\u001b[38;5;241m=\u001b[39mrepo_type,\n\u001b[1;32m    434\u001b[0m         revision\u001b[38;5;241m=\u001b[39mrevision,\n\u001b[1;32m    435\u001b[0m         cache_dir\u001b[38;5;241m=\u001b[39mcache_dir,\n\u001b[1;32m    436\u001b[0m         user_agent\u001b[38;5;241m=\u001b[39muser_agent,\n\u001b[1;32m    437\u001b[0m         force_download\u001b[38;5;241m=\u001b[39mforce_download,\n\u001b[1;32m    438\u001b[0m         proxies\u001b[38;5;241m=\u001b[39mproxies,\n\u001b[1;32m    439\u001b[0m         resume_download\u001b[38;5;241m=\u001b[39mresume_download,\n\u001b[1;32m    440\u001b[0m         token\u001b[38;5;241m=\u001b[39mtoken,\n\u001b[1;32m    441\u001b[0m         local_files_only\u001b[38;5;241m=\u001b[39mlocal_files_only,\n\u001b[1;32m    442\u001b[0m     )\n\u001b[1;32m    443\u001b[0m \u001b[38;5;28;01mexcept\u001b[39;00m GatedRepoError \u001b[38;5;28;01mas\u001b[39;00m e:\n",
      "File \u001b[0;32m~/miniconda3/envs/torch310/lib/python3.11/site-packages/huggingface_hub/utils/_validators.py:118\u001b[0m, in \u001b[0;36mvalidate_hf_hub_args.<locals>._inner_fn\u001b[0;34m(*args, **kwargs)\u001b[0m\n\u001b[1;32m    116\u001b[0m     kwargs \u001b[38;5;241m=\u001b[39m smoothly_deprecate_use_auth_token(fn_name\u001b[38;5;241m=\u001b[39mfn\u001b[38;5;241m.\u001b[39m\u001b[38;5;18m__name__\u001b[39m, has_token\u001b[38;5;241m=\u001b[39mhas_token, kwargs\u001b[38;5;241m=\u001b[39mkwargs)\n\u001b[0;32m--> 118\u001b[0m \u001b[38;5;28;01mreturn\u001b[39;00m fn(\u001b[38;5;241m*\u001b[39margs, \u001b[38;5;241m*\u001b[39m\u001b[38;5;241m*\u001b[39mkwargs)\n",
      "File \u001b[0;32m~/miniconda3/envs/torch310/lib/python3.11/site-packages/huggingface_hub/file_download.py:1195\u001b[0m, in \u001b[0;36mhf_hub_download\u001b[0;34m(repo_id, filename, subfolder, repo_type, revision, library_name, library_version, cache_dir, local_dir, local_dir_use_symlinks, user_agent, force_download, force_filename, proxies, etag_timeout, resume_download, token, local_files_only, legacy_cache_layout)\u001b[0m\n\u001b[1;32m   1194\u001b[0m \u001b[38;5;28;01mtry\u001b[39;00m:\n\u001b[0;32m-> 1195\u001b[0m     metadata \u001b[38;5;241m=\u001b[39m get_hf_file_metadata(\n\u001b[1;32m   1196\u001b[0m         url\u001b[38;5;241m=\u001b[39murl,\n\u001b[1;32m   1197\u001b[0m         token\u001b[38;5;241m=\u001b[39mtoken,\n\u001b[1;32m   1198\u001b[0m         proxies\u001b[38;5;241m=\u001b[39mproxies,\n\u001b[1;32m   1199\u001b[0m         timeout\u001b[38;5;241m=\u001b[39metag_timeout,\n\u001b[1;32m   1200\u001b[0m     )\n\u001b[1;32m   1201\u001b[0m \u001b[38;5;28;01mexcept\u001b[39;00m EntryNotFoundError \u001b[38;5;28;01mas\u001b[39;00m http_error:\n\u001b[1;32m   1202\u001b[0m     \u001b[38;5;66;03m# Cache the non-existence of the file and raise\u001b[39;00m\n",
      "File \u001b[0;32m~/miniconda3/envs/torch310/lib/python3.11/site-packages/huggingface_hub/utils/_validators.py:118\u001b[0m, in \u001b[0;36mvalidate_hf_hub_args.<locals>._inner_fn\u001b[0;34m(*args, **kwargs)\u001b[0m\n\u001b[1;32m    116\u001b[0m     kwargs \u001b[38;5;241m=\u001b[39m smoothly_deprecate_use_auth_token(fn_name\u001b[38;5;241m=\u001b[39mfn\u001b[38;5;241m.\u001b[39m\u001b[38;5;18m__name__\u001b[39m, has_token\u001b[38;5;241m=\u001b[39mhas_token, kwargs\u001b[38;5;241m=\u001b[39mkwargs)\n\u001b[0;32m--> 118\u001b[0m \u001b[38;5;28;01mreturn\u001b[39;00m fn(\u001b[38;5;241m*\u001b[39margs, \u001b[38;5;241m*\u001b[39m\u001b[38;5;241m*\u001b[39mkwargs)\n",
      "File \u001b[0;32m~/miniconda3/envs/torch310/lib/python3.11/site-packages/huggingface_hub/file_download.py:1541\u001b[0m, in \u001b[0;36mget_hf_file_metadata\u001b[0;34m(url, token, proxies, timeout)\u001b[0m\n\u001b[1;32m   1532\u001b[0m r \u001b[38;5;241m=\u001b[39m _request_wrapper(\n\u001b[1;32m   1533\u001b[0m     method\u001b[38;5;241m=\u001b[39m\u001b[38;5;124m\"\u001b[39m\u001b[38;5;124mHEAD\u001b[39m\u001b[38;5;124m\"\u001b[39m,\n\u001b[1;32m   1534\u001b[0m     url\u001b[38;5;241m=\u001b[39murl,\n\u001b[0;32m   (...)\u001b[0m\n\u001b[1;32m   1539\u001b[0m     timeout\u001b[38;5;241m=\u001b[39mtimeout,\n\u001b[1;32m   1540\u001b[0m )\n\u001b[0;32m-> 1541\u001b[0m hf_raise_for_status(r)\n\u001b[1;32m   1543\u001b[0m \u001b[38;5;66;03m# Return\u001b[39;00m\n",
      "File \u001b[0;32m~/miniconda3/envs/torch310/lib/python3.11/site-packages/huggingface_hub/utils/_errors.py:293\u001b[0m, in \u001b[0;36mhf_raise_for_status\u001b[0;34m(response, endpoint_name)\u001b[0m\n\u001b[1;32m    285\u001b[0m     message \u001b[38;5;241m=\u001b[39m (\n\u001b[1;32m    286\u001b[0m         \u001b[38;5;124mf\u001b[39m\u001b[38;5;124m\"\u001b[39m\u001b[38;5;132;01m{\u001b[39;00mresponse\u001b[38;5;241m.\u001b[39mstatus_code\u001b[38;5;132;01m}\u001b[39;00m\u001b[38;5;124m Client Error.\u001b[39m\u001b[38;5;124m\"\u001b[39m\n\u001b[1;32m    287\u001b[0m         \u001b[38;5;241m+\u001b[39m \u001b[38;5;124m\"\u001b[39m\u001b[38;5;130;01m\\n\u001b[39;00m\u001b[38;5;130;01m\\n\u001b[39;00m\u001b[38;5;124m\"\u001b[39m\n\u001b[0;32m   (...)\u001b[0m\n\u001b[1;32m    291\u001b[0m         \u001b[38;5;124m\"\u001b[39m\u001b[38;5;124m make sure you are authenticated.\u001b[39m\u001b[38;5;124m\"\u001b[39m\n\u001b[1;32m    292\u001b[0m     )\n\u001b[0;32m--> 293\u001b[0m     \u001b[38;5;28;01mraise\u001b[39;00m RepositoryNotFoundError(message, response) \u001b[38;5;28;01mfrom\u001b[39;00m \u001b[38;5;21;01me\u001b[39;00m\n\u001b[1;32m    295\u001b[0m \u001b[38;5;28;01melif\u001b[39;00m response\u001b[38;5;241m.\u001b[39mstatus_code \u001b[38;5;241m==\u001b[39m \u001b[38;5;241m400\u001b[39m:\n",
      "\u001b[0;31mRepositoryNotFoundError\u001b[0m: 401 Client Error. (Request ID: Root=1-64fe296d-629d53d62319aab805c14aba;09107c9a-cf88-41d7-bf89-1e391cb5a1bc)\n\nRepository Not Found for url: https://huggingface.co/bert-large-uncased_SST2_3_5e-05_FULL.pt/resolve/main/vocab.txt.\nPlease make sure you specified the correct `repo_id` and `repo_type`.\nIf you are trying to access a private or gated repo, make sure you are authenticated.\nInvalid username or password.",
      "\nThe above exception was the direct cause of the following exception:\n",
      "\u001b[0;31mOSError\u001b[0m                                   Traceback (most recent call last)",
      "Cell \u001b[0;32mIn[172], line 1\u001b[0m\n\u001b[0;32m----> 1\u001b[0m tokenizer \u001b[38;5;241m=\u001b[39m transformers\u001b[38;5;241m.\u001b[39mBertTokenizer\u001b[38;5;241m.\u001b[39mfrom_pretrained(model_name)\n\u001b[1;32m      2\u001b[0m BATCH_SIZE \u001b[38;5;241m=\u001b[39m \u001b[38;5;241m32\u001b[39m\n\u001b[1;32m      3\u001b[0m MAX_SENT_LENGTH \u001b[38;5;241m=\u001b[39m \u001b[38;5;241m56\u001b[39m\n",
      "File \u001b[0;32m~/miniconda3/envs/torch310/lib/python3.11/site-packages/transformers/tokenization_utils_base.py:1813\u001b[0m, in \u001b[0;36mPreTrainedTokenizerBase.from_pretrained\u001b[0;34m(cls, pretrained_model_name_or_path, cache_dir, force_download, local_files_only, token, revision, *init_inputs, **kwargs)\u001b[0m\n\u001b[1;32m   1811\u001b[0m             resolved_vocab_files[file_id] \u001b[38;5;241m=\u001b[39m download_url(file_path, proxies\u001b[38;5;241m=\u001b[39mproxies)\n\u001b[1;32m   1812\u001b[0m     \u001b[38;5;28;01melse\u001b[39;00m:\n\u001b[0;32m-> 1813\u001b[0m         resolved_vocab_files[file_id] \u001b[38;5;241m=\u001b[39m cached_file(\n\u001b[1;32m   1814\u001b[0m             pretrained_model_name_or_path,\n\u001b[1;32m   1815\u001b[0m             file_path,\n\u001b[1;32m   1816\u001b[0m             cache_dir\u001b[38;5;241m=\u001b[39mcache_dir,\n\u001b[1;32m   1817\u001b[0m             force_download\u001b[38;5;241m=\u001b[39mforce_download,\n\u001b[1;32m   1818\u001b[0m             proxies\u001b[38;5;241m=\u001b[39mproxies,\n\u001b[1;32m   1819\u001b[0m             resume_download\u001b[38;5;241m=\u001b[39mresume_download,\n\u001b[1;32m   1820\u001b[0m             local_files_only\u001b[38;5;241m=\u001b[39mlocal_files_only,\n\u001b[1;32m   1821\u001b[0m             token\u001b[38;5;241m=\u001b[39mtoken,\n\u001b[1;32m   1822\u001b[0m             user_agent\u001b[38;5;241m=\u001b[39muser_agent,\n\u001b[1;32m   1823\u001b[0m             revision\u001b[38;5;241m=\u001b[39mrevision,\n\u001b[1;32m   1824\u001b[0m             subfolder\u001b[38;5;241m=\u001b[39msubfolder,\n\u001b[1;32m   1825\u001b[0m             _raise_exceptions_for_missing_entries\u001b[38;5;241m=\u001b[39m\u001b[38;5;28;01mFalse\u001b[39;00m,\n\u001b[1;32m   1826\u001b[0m             _raise_exceptions_for_connection_errors\u001b[38;5;241m=\u001b[39m\u001b[38;5;28;01mFalse\u001b[39;00m,\n\u001b[1;32m   1827\u001b[0m             _commit_hash\u001b[38;5;241m=\u001b[39mcommit_hash,\n\u001b[1;32m   1828\u001b[0m         )\n\u001b[1;32m   1829\u001b[0m         commit_hash \u001b[38;5;241m=\u001b[39m extract_commit_hash(resolved_vocab_files[file_id], commit_hash)\n\u001b[1;32m   1831\u001b[0m \u001b[38;5;28;01mif\u001b[39;00m \u001b[38;5;28mlen\u001b[39m(unresolved_files) \u001b[38;5;241m>\u001b[39m \u001b[38;5;241m0\u001b[39m:\n",
      "File \u001b[0;32m~/miniconda3/envs/torch310/lib/python3.11/site-packages/transformers/utils/hub.py:450\u001b[0m, in \u001b[0;36mcached_file\u001b[0;34m(path_or_repo_id, filename, cache_dir, force_download, resume_download, proxies, token, revision, local_files_only, subfolder, repo_type, user_agent, _raise_exceptions_for_missing_entries, _raise_exceptions_for_connection_errors, _commit_hash, **deprecated_kwargs)\u001b[0m\n\u001b[1;32m    444\u001b[0m     \u001b[38;5;28;01mraise\u001b[39;00m \u001b[38;5;167;01mEnvironmentError\u001b[39;00m(\n\u001b[1;32m    445\u001b[0m         \u001b[38;5;124m\"\u001b[39m\u001b[38;5;124mYou are trying to access a gated repo.\u001b[39m\u001b[38;5;130;01m\\n\u001b[39;00m\u001b[38;5;124mMake sure to request access at \u001b[39m\u001b[38;5;124m\"\u001b[39m\n\u001b[1;32m    446\u001b[0m         \u001b[38;5;124mf\u001b[39m\u001b[38;5;124m\"\u001b[39m\u001b[38;5;124mhttps://huggingface.co/\u001b[39m\u001b[38;5;132;01m{\u001b[39;00mpath_or_repo_id\u001b[38;5;132;01m}\u001b[39;00m\u001b[38;5;124m and pass a token having permission to this repo either \u001b[39m\u001b[38;5;124m\"\u001b[39m\n\u001b[1;32m    447\u001b[0m         \u001b[38;5;124m\"\u001b[39m\u001b[38;5;124mby logging in with `huggingface-cli login` or by passing `token=<your_token>`.\u001b[39m\u001b[38;5;124m\"\u001b[39m\n\u001b[1;32m    448\u001b[0m     ) \u001b[38;5;28;01mfrom\u001b[39;00m \u001b[38;5;21;01me\u001b[39;00m\n\u001b[1;32m    449\u001b[0m \u001b[38;5;28;01mexcept\u001b[39;00m RepositoryNotFoundError \u001b[38;5;28;01mas\u001b[39;00m e:\n\u001b[0;32m--> 450\u001b[0m     \u001b[38;5;28;01mraise\u001b[39;00m \u001b[38;5;167;01mEnvironmentError\u001b[39;00m(\n\u001b[1;32m    451\u001b[0m         \u001b[38;5;124mf\u001b[39m\u001b[38;5;124m\"\u001b[39m\u001b[38;5;132;01m{\u001b[39;00mpath_or_repo_id\u001b[38;5;132;01m}\u001b[39;00m\u001b[38;5;124m is not a local folder and is not a valid model identifier \u001b[39m\u001b[38;5;124m\"\u001b[39m\n\u001b[1;32m    452\u001b[0m         \u001b[38;5;124m\"\u001b[39m\u001b[38;5;124mlisted on \u001b[39m\u001b[38;5;124m'\u001b[39m\u001b[38;5;124mhttps://huggingface.co/models\u001b[39m\u001b[38;5;124m'\u001b[39m\u001b[38;5;130;01m\\n\u001b[39;00m\u001b[38;5;124mIf this is a private repository, make sure to pass a token \u001b[39m\u001b[38;5;124m\"\u001b[39m\n\u001b[1;32m    453\u001b[0m         \u001b[38;5;124m\"\u001b[39m\u001b[38;5;124mhaving permission to this repo either by logging in with `huggingface-cli login` or by passing \u001b[39m\u001b[38;5;124m\"\u001b[39m\n\u001b[1;32m    454\u001b[0m         \u001b[38;5;124m\"\u001b[39m\u001b[38;5;124m`token=<your_token>`\u001b[39m\u001b[38;5;124m\"\u001b[39m\n\u001b[1;32m    455\u001b[0m     ) \u001b[38;5;28;01mfrom\u001b[39;00m \u001b[38;5;21;01me\u001b[39;00m\n\u001b[1;32m    456\u001b[0m \u001b[38;5;28;01mexcept\u001b[39;00m RevisionNotFoundError \u001b[38;5;28;01mas\u001b[39;00m e:\n\u001b[1;32m    457\u001b[0m     \u001b[38;5;28;01mraise\u001b[39;00m \u001b[38;5;167;01mEnvironmentError\u001b[39;00m(\n\u001b[1;32m    458\u001b[0m         \u001b[38;5;124mf\u001b[39m\u001b[38;5;124m\"\u001b[39m\u001b[38;5;132;01m{\u001b[39;00mrevision\u001b[38;5;132;01m}\u001b[39;00m\u001b[38;5;124m is not a valid git identifier (branch name, tag name or commit id) that exists \u001b[39m\u001b[38;5;124m\"\u001b[39m\n\u001b[1;32m    459\u001b[0m         \u001b[38;5;124m\"\u001b[39m\u001b[38;5;124mfor this model name. Check the model page at \u001b[39m\u001b[38;5;124m\"\u001b[39m\n\u001b[1;32m    460\u001b[0m         \u001b[38;5;124mf\u001b[39m\u001b[38;5;124m\"\u001b[39m\u001b[38;5;124m'\u001b[39m\u001b[38;5;124mhttps://huggingface.co/\u001b[39m\u001b[38;5;132;01m{\u001b[39;00mpath_or_repo_id\u001b[38;5;132;01m}\u001b[39;00m\u001b[38;5;124m'\u001b[39m\u001b[38;5;124m for available revisions.\u001b[39m\u001b[38;5;124m\"\u001b[39m\n\u001b[1;32m    461\u001b[0m     ) \u001b[38;5;28;01mfrom\u001b[39;00m \u001b[38;5;21;01me\u001b[39;00m\n",
      "\u001b[0;31mOSError\u001b[0m: bert-large-uncased_SST2_3_5e-05_FULL.pt is not a local folder and is not a valid model identifier listed on 'https://huggingface.co/models'\nIf this is a private repository, make sure to pass a token having permission to this repo either by logging in with `huggingface-cli login` or by passing `token=<your_token>`"
     ]
    }
   ],
   "source": [
    "tokenizer = transformers.BertTokenizer.from_pretrained(bert_model_name)\n",
    "BATCH_SIZE = 32\n",
    "MAX_SENT_LENGTH = 56\n",
    "\n",
    "# train dataset\n",
    "train_dataset= BertDataset(tokenizer, max_length=MAX_SENT_LENGTH, split=\"train\")\n",
    "train_dataloader=DataLoader(dataset=train_dataset,batch_size=BATCH_SIZE)\n",
    "print(len(train_dataset), len(train_dataloader))\n",
    "\n",
    "# dev dataset\n",
    "dev_dataset= BertDataset(tokenizer, max_length=MAX_SENT_LENGTH, split=\"dev\")\n",
    "dev_dataloader=DataLoader(dataset=dev_dataset,batch_size=BATCH_SIZE)\n",
    "print(len(dev_dataset), len(dev_dataloader))\n",
    "\n",
    "# test dataset\n",
    "test_dataset= BertDataset(tokenizer, max_length=MAX_SENT_LENGTH, split=\"test\")\n",
    "test_dataloader=DataLoader(dataset=test_dataset,batch_size=BATCH_SIZE)\n",
    "print(len(test_dataset), len(test_dataloader))"
   ]
  },
  {
   "cell_type": "code",
   "execution_count": 153,
   "id": "247280cc",
   "metadata": {},
   "outputs": [
    {
     "name": "stderr",
     "output_type": "stream",
     "text": [
      "Truncation was not explicitly activated but `max_length` is provided a specific value, please use `truncation=True` to explicitly truncate examples to max length. Defaulting to 'longest_first' truncation strategy. If you encode pairs of sequences (GLUE-style) with the tokenizer you can select this strategy more precisely by providing a specific strategy to `truncation`.\n",
      "/home/karm/miniconda3/envs/torch310/lib/python3.11/site-packages/transformers/tokenization_utils_base.py:2418: FutureWarning: The `pad_to_max_length` argument is deprecated and will be removed in a future version, use `padding=True` or `padding='longest'` to pad to the longest sequence in the batch, or use `padding='max_length'` to pad to a max length. In this case, you can give a specific length with `max_length` (e.g. `max_length=45`) or leave max_length to None to pad to the maximal input size of the model (e.g. 512 for Bert).\n",
      "  warnings.warn(\n"
     ]
    }
   ],
   "source": [
    "# testing data loaders\n",
    "next(iter(train_dataloader));"
   ]
  },
  {
   "cell_type": "code",
   "execution_count": 154,
   "id": "ec5e802b",
   "metadata": {},
   "outputs": [],
   "source": [
    "class BERT(nn.Module):\n",
    "    def __init__(self,d_model=768, H = 50, n_classes=2):\n",
    "        super(BERT, self).__init__()\n",
    "        self.bert_model = transformers.BertModel.from_pretrained(model_name)\n",
    "        self.classifier = nn.Sequential(\n",
    "            nn.Linear(d_model, H),\n",
    "            nn.ReLU(),\n",
    "            #nn.Dropout(0.5),\n",
    "            nn.Linear(H, n_classes)\n",
    "        )\n",
    "        \n",
    "    def forward(self,ids,mask,token_type_ids):\n",
    "        # need to pass positional embeddings\n",
    "        last_hidden_states, cls = self.bert_model(ids,attention_mask=mask,token_type_ids=token_type_ids, return_dict=False)\n",
    "        # last_hidden_state.shape = (batch_size, sequence_length, hidden_size)\n",
    "        # Extract the last hidden state of the token `[CLS]` for classification task\n",
    "        last_hidden_state_cls = last_hidden_states[:, 0, :] # (Batch, MAX_length, hidden_size)\n",
    "        logits = self.classifier(last_hidden_state_cls)\n",
    "        return logits"
   ]
  },
  {
   "cell_type": "code",
   "execution_count": 155,
   "id": "e963b672",
   "metadata": {},
   "outputs": [],
   "source": [
    "# class BERT(nn.Module):\n",
    "#     def __init__(self):\n",
    "#         super(BERT, self).__init__()\n",
    "#         self.bert_model = transformers.BertModel.from_pretrained(\"bert-base-uncased\")\n",
    "#         self.out = nn.Linear(768, 2)\n",
    "        \n",
    "        \n",
    "#     def forward(self,ids,mask,token_type_ids):\n",
    "#         # need to pass positional embeddings\n",
    "#         last_hidden_states, cls = self.bert_model(ids,attention_mask=mask,token_type_ids=token_type_ids, return_dict=False)\n",
    "#         # last_hidden_state.shape = (batch_size, sequence_length, hidden_size)\n",
    "#         # cls = (batch_size , hidden_size) -- need to check this, is this original cls or it's passed to liner layer\n",
    "#         out= self.out(cls)\n",
    "#         out = F.log_softmax(out, dim=1)\n",
    "# #         print(out.shape)\n",
    "#         return out"
   ]
  },
  {
   "cell_type": "code",
   "execution_count": 156,
   "id": "5df01b74",
   "metadata": {},
   "outputs": [],
   "source": [
    "# nn.CrossEntropyLoss()"
   ]
  },
  {
   "cell_type": "code",
   "execution_count": 158,
   "id": "e414841e",
   "metadata": {},
   "outputs": [],
   "source": [
    "model=BERT(d_model=1024, H = 100).to(device)\n",
    "loss_fn = nn.CrossEntropyLoss()\n",
    "# loss_fn = nn.NLLLoss()\n",
    "\n",
    "#Initialize Optimizer\n",
    "lr = 5e-5\n",
    "optimizer= optim.Adam(model.parameters(),lr= lr)"
   ]
  },
  {
   "cell_type": "code",
   "execution_count": 159,
   "id": "e0360132",
   "metadata": {},
   "outputs": [],
   "source": [
    "# # only finetune classification head\n",
    "# for param in model.bert_model.parameters():\n",
    "#     param.requires_grad = False"
   ]
  },
  {
   "cell_type": "code",
   "execution_count": 160,
   "id": "014b065e",
   "metadata": {
    "scrolled": false
   },
   "outputs": [
    {
     "name": "stderr",
     "output_type": "stream",
     "text": [
      "\r",
      "  0%|          | 0/2105 [00:00<?, ?it/s]"
     ]
    },
    {
     "name": "stdout",
     "output_type": "stream",
     "text": [
      "0\n"
     ]
    },
    {
     "name": "stderr",
     "output_type": "stream",
     "text": [
      "                                                                                                             \r"
     ]
    },
    {
     "name": "stdout",
     "output_type": "stream",
     "text": [
      "Train Accuracy :0 = 0.5862893287205452\n"
     ]
    },
    {
     "name": "stderr",
     "output_type": "stream",
     "text": [
      "\r",
      "  0%|          | 0/2105 [00:00<?, ?it/s]"
     ]
    },
    {
     "name": "stdout",
     "output_type": "stream",
     "text": [
      "1\n"
     ]
    },
    {
     "name": "stderr",
     "output_type": "stream",
     "text": [
      "                                                                                                             \r"
     ]
    },
    {
     "name": "stdout",
     "output_type": "stream",
     "text": [
      "Train Accuracy :1 = 0.5578108063965315\n"
     ]
    },
    {
     "name": "stderr",
     "output_type": "stream",
     "text": [
      "\r",
      "  0%|          | 0/2105 [00:00<?, ?it/s]"
     ]
    },
    {
     "name": "stdout",
     "output_type": "stream",
     "text": [
      "2\n"
     ]
    },
    {
     "name": "stderr",
     "output_type": "stream",
     "text": [
      "                                                                                                             "
     ]
    },
    {
     "name": "stdout",
     "output_type": "stream",
     "text": [
      "Train Accuracy :2 = 0.5571871891193633\n"
     ]
    },
    {
     "name": "stderr",
     "output_type": "stream",
     "text": [
      "\r"
     ]
    }
   ],
   "source": [
    "epochs = 3\n",
    "train_losses = []\n",
    "\n",
    "for epoch in range(epochs):\n",
    "    model.train()\n",
    "    loop=tqdm(enumerate(train_dataloader),leave=False,total=len(train_dataloader))\n",
    "    print(epoch)\n",
    "    total_matches = 0\n",
    "    for batch, dl in loop:\n",
    "        ids, token_type_ids, mask, label = dl['ids'], dl['token_type_ids'], dl['mask'], dl['target']\n",
    "\n",
    "#         label = label.unsqueeze(1) # 1D to 2D ex: (B,) -> (B, 1)\n",
    "        optimizer.zero_grad()\n",
    "\n",
    "        output=F.softmax(model(ids=ids,mask=mask,token_type_ids=token_type_ids), dim=1) # (B, 2)\n",
    "\n",
    "        loss=loss_fn(output,label)\n",
    "        loss.backward()\n",
    "#         print(loss)\n",
    "        train_losses.append(loss)\n",
    "\n",
    "        optimizer.step()\n",
    "        pred = torch.argmax(output, dim=-1) # (B,1)\n",
    "        accuracy = Accuracy(task = \"binary\").to(device)(pred, label)\n",
    "        total_matches += (torch.sum(pred == label)).item()\n",
    "\n",
    "        # Show progress while training\n",
    "        loop.set_description_str(f\"Epoch={epoch}/{epochs} loss={loss.item()} acc={accuracy}\")\n",
    "\n",
    "    \n",
    "    print(f\"Train Accuracy :{epoch} = {total_matches/len(train_dataset)}\") "
   ]
  },
  {
   "cell_type": "code",
   "execution_count": 161,
   "id": "55dde614",
   "metadata": {},
   "outputs": [],
   "source": [
    "# save model\n",
    "model_name = f\"{model_name}_SST2_{epochs}_{lr}_FULL.pt\"\n",
    "torch.save(model.state_dict(), f\"ckpts/{model_name}\")"
   ]
  },
  {
   "cell_type": "code",
   "execution_count": 162,
   "id": "4f419e03",
   "metadata": {},
   "outputs": [
    {
     "name": "stderr",
     "output_type": "stream",
     "text": [
      "                                                                        "
     ]
    },
    {
     "name": "stdout",
     "output_type": "stream",
     "text": [
      "Validation Accuracy :0.5091743119266054\n"
     ]
    },
    {
     "name": "stderr",
     "output_type": "stream",
     "text": [
      "\r"
     ]
    }
   ],
   "source": [
    "# dev dataset\n",
    "dev_losses = []\n",
    "\n",
    "model.eval()\n",
    "loop=tqdm(enumerate(dev_dataloader),leave=False,total=len(dev_dataloader))\n",
    "total_matches = 0\n",
    "with torch.no_grad():\n",
    "    for batch, dl in loop:\n",
    "        ids, token_type_ids, mask, label = dl['ids'], dl['token_type_ids'], dl['mask'], dl['target']\n",
    "        output=F.softmax(model(ids=ids,mask=mask,token_type_ids=token_type_ids), dim=1)\n",
    "#         label = label.type_as(output)\n",
    "        loss=loss_fn(output,label)\n",
    "        dev_losses.append(loss)\n",
    "\n",
    "        pred = torch.argmax(output, dim=-1)\n",
    "\n",
    "        matches = torch.sum(pred == label)\n",
    "        total_matches += matches.item()\n",
    "\n",
    "        # Show progress while training\n",
    "        loop.set_description(f'loss={loss.item()}')\n",
    "\n",
    "\n",
    "    print(f\"Validation Accuracy :{total_matches/len(dev_dataset)}\")    "
   ]
  },
  {
   "cell_type": "markdown",
   "id": "58a3fcee",
   "metadata": {},
   "source": [
    "## Custom Sentences"
   ]
  },
  {
   "cell_type": "code",
   "execution_count": 59,
   "id": "80755417",
   "metadata": {},
   "outputs": [],
   "source": [
    "class BertCustomDataset(Dataset):\n",
    "    def __init__(self, tokenizer, max_length, sentences, device=torch.device(\"cuda\")):\n",
    "        super(BertCustomDataset, self).__init__()\n",
    "        self.data_df=pd.DataFrame(custom_sentences, columns=[\"text\"])\n",
    "        self.tokenizer=tokenizer\n",
    "#         self.target=self.data_df.iloc[:,1]\n",
    "        self.max_length=max_length\n",
    "        \n",
    "    def __len__(self):\n",
    "        return len(self.data_df)\n",
    "    \n",
    "    def __getitem__(self, index):\n",
    "        \n",
    "        text1 = self.data_df.iloc[index,0]\n",
    "        \n",
    "        inputs = self.tokenizer.encode_plus(\n",
    "            text1 ,\n",
    "            None,\n",
    "            pad_to_max_length=True,\n",
    "            add_special_tokens=True,\n",
    "            return_attention_mask=True,\n",
    "            max_length=self.max_length,\n",
    "        )\n",
    "        ids = inputs[\"input_ids\"]\n",
    "        token_type_ids = inputs[\"token_type_ids\"]\n",
    "        mask = inputs[\"attention_mask\"]\n",
    "\n",
    "        return {\n",
    "            'ids': torch.tensor(ids, dtype=torch.long).to(device),\n",
    "            'mask': torch.tensor(mask, dtype=torch.long).to(device),\n",
    "            'token_type_ids': torch.tensor(token_type_ids, dtype=torch.long).to(device),\n",
    "            }"
   ]
  },
  {
   "cell_type": "code",
   "execution_count": 102,
   "id": "c1f37bc5",
   "metadata": {},
   "outputs": [
    {
     "name": "stderr",
     "output_type": "stream",
     "text": [
      "/home/karm/miniconda3/envs/torch310/lib/python3.11/site-packages/transformers/tokenization_utils_base.py:2418: FutureWarning: The `pad_to_max_length` argument is deprecated and will be removed in a future version, use `padding=True` or `padding='longest'` to pad to the longest sequence in the batch, or use `padding='max_length'` to pad to a max length. In this case, you can give a specific length with `max_length` (e.g. `max_length=45`) or leave max_length to None to pad to the maximal input size of the model (e.g. 512 for Bert).\n",
      "  warnings.warn(\n"
     ]
    },
    {
     "data": {
      "text/html": [
       "<div>\n",
       "<style scoped>\n",
       "    .dataframe tbody tr th:only-of-type {\n",
       "        vertical-align: middle;\n",
       "    }\n",
       "\n",
       "    .dataframe tbody tr th {\n",
       "        vertical-align: top;\n",
       "    }\n",
       "\n",
       "    .dataframe thead th {\n",
       "        text-align: right;\n",
       "    }\n",
       "</style>\n",
       "<table border=\"1\" class=\"dataframe\">\n",
       "  <thead>\n",
       "    <tr style=\"text-align: right;\">\n",
       "      <th></th>\n",
       "      <th>input</th>\n",
       "      <th>Prediction</th>\n",
       "      <th>Probability</th>\n",
       "    </tr>\n",
       "  </thead>\n",
       "  <tbody>\n",
       "    <tr>\n",
       "      <th>0</th>\n",
       "      <td>You made 100 run in only 50 balls</td>\n",
       "      <td>Negative</td>\n",
       "      <td>0.999990</td>\n",
       "    </tr>\n",
       "    <tr>\n",
       "      <th>1</th>\n",
       "      <td>You made only 1 run in 50 balls</td>\n",
       "      <td>Negative</td>\n",
       "      <td>0.999993</td>\n",
       "    </tr>\n",
       "    <tr>\n",
       "      <th>2</th>\n",
       "      <td>Wow! You made only 1 run in 50 balls</td>\n",
       "      <td>Negative</td>\n",
       "      <td>0.667920</td>\n",
       "    </tr>\n",
       "    <tr>\n",
       "      <th>3</th>\n",
       "      <td>Despite being a topper you are just passed</td>\n",
       "      <td>Negative</td>\n",
       "      <td>0.581516</td>\n",
       "    </tr>\n",
       "    <tr>\n",
       "      <th>4</th>\n",
       "      <td>Despite being a back bencher you are passed</td>\n",
       "      <td>Positive</td>\n",
       "      <td>0.999947</td>\n",
       "    </tr>\n",
       "  </tbody>\n",
       "</table>\n",
       "</div>"
      ],
      "text/plain": [
       "                                         input Prediction  Probability\n",
       "0            You made 100 run in only 50 balls   Negative     0.999990\n",
       "1              You made only 1 run in 50 balls   Negative     0.999993\n",
       "2         Wow! You made only 1 run in 50 balls   Negative     0.667920\n",
       "3   Despite being a topper you are just passed   Negative     0.581516\n",
       "4  Despite being a back bencher you are passed   Positive     0.999947"
      ]
     },
     "execution_count": 102,
     "metadata": {},
     "output_type": "execute_result"
    }
   ],
   "source": [
    "custom_sentences = [\"I do not like food there.\", \"I like these mangoes\", \"You made 1 run in only 50 balls\", \"Opps! You made 1 run in only 50 balls\", \"Wow! You made 1 run in only 50 balls\", \"You made only 1 run in 50 balls\", \"Opps! You made only 1 run in 50 balls\", \"Wow! You made only 1 run in 50 balls\"]\n",
    "custom_sentences = [\"You made 100 run in only 50 balls\", \"You made only 1 run in 50 balls\", \"Wow! You made only 1 run in 50 balls\", \"Despite being a topper you are just passed\", \"Despite being a back bencher you are passed\"]\n",
    "\n",
    "custom_dataset = BertCustomDataset(tokenizer, 56, custom_sentences)\n",
    "custom_dataloader = DataLoader(custom_dataset, batch_size=len(custom_sentences))\n",
    "model.eval()\n",
    "with torch.no_grad():\n",
    "    data = next(iter(custom_dataloader))\n",
    "    ids, token_type_ids, mask = data['ids'], data['token_type_ids'], data['mask']\n",
    "    output=F.softmax(model(ids=ids,mask=mask,token_type_ids=token_type_ids), dim=1)\n",
    "#     print(\"Prediction:\")\n",
    "#     print(list(zip(custom_sentences, torch.argmax(output, dim=1))))\n",
    "    \n",
    "df = pd.DataFrame(custom_sentences, columns=[\"input\"])\n",
    "df[\"Prediction\"] = torch.argmax(output, dim=-1).to(cpu_device)\n",
    "df[\"Prediction\"] = df[\"Prediction\"].apply(lambda x: {0: \"Negative\", 1: \"Positive\"}[x])\n",
    "df[\"Probability\"] = torch.max(output, dim=-1).values.to(cpu_device)\n",
    "df"
   ]
  },
  {
   "cell_type": "code",
   "execution_count": 90,
   "id": "f873f085",
   "metadata": {},
   "outputs": [
    {
     "data": {
      "text/html": [
       "<div>\n",
       "<style scoped>\n",
       "    .dataframe tbody tr th:only-of-type {\n",
       "        vertical-align: middle;\n",
       "    }\n",
       "\n",
       "    .dataframe tbody tr th {\n",
       "        vertical-align: top;\n",
       "    }\n",
       "\n",
       "    .dataframe thead th {\n",
       "        text-align: right;\n",
       "    }\n",
       "</style>\n",
       "<table border=\"1\" class=\"dataframe\">\n",
       "  <thead>\n",
       "    <tr style=\"text-align: right;\">\n",
       "      <th></th>\n",
       "      <th>text</th>\n",
       "      <th>Prediction</th>\n",
       "      <th>Probability</th>\n",
       "    </tr>\n",
       "  </thead>\n",
       "  <tbody>\n",
       "    <tr>\n",
       "      <th>0</th>\n",
       "      <td>I do not like food there.</td>\n",
       "      <td>0</td>\n",
       "      <td>0.999993</td>\n",
       "    </tr>\n",
       "    <tr>\n",
       "      <th>1</th>\n",
       "      <td>I like these mangoes</td>\n",
       "      <td>1</td>\n",
       "      <td>0.999988</td>\n",
       "    </tr>\n",
       "    <tr>\n",
       "      <th>2</th>\n",
       "      <td>Opps! You made 1 runs in only 50 balls</td>\n",
       "      <td>0</td>\n",
       "      <td>0.999992</td>\n",
       "    </tr>\n",
       "    <tr>\n",
       "      <th>3</th>\n",
       "      <td>Wow! You made only 1 run in 50 balls</td>\n",
       "      <td>0</td>\n",
       "      <td>0.667919</td>\n",
       "    </tr>\n",
       "  </tbody>\n",
       "</table>\n",
       "</div>"
      ],
      "text/plain": [
       "                                     text  Prediction  Probability\n",
       "0               I do not like food there.           0     0.999993\n",
       "1                    I like these mangoes           1     0.999988\n",
       "2  Opps! You made 1 runs in only 50 balls           0     0.999992\n",
       "3    Wow! You made only 1 run in 50 balls           0     0.667919"
      ]
     },
     "execution_count": 90,
     "metadata": {},
     "output_type": "execute_result"
    }
   ],
   "source": []
  },
  {
   "cell_type": "code",
   "execution_count": 235,
   "id": "7ebb22f1",
   "metadata": {},
   "outputs": [
    {
     "name": "stdout",
     "output_type": "stream",
     "text": [
      "tensor(0.8571, device='cuda:0')\n"
     ]
    }
   ],
   "source": [
    "print(accuracy)"
   ]
  },
  {
   "cell_type": "code",
   "execution_count": 24,
   "id": "8c7e6fb0",
   "metadata": {},
   "outputs": [],
   "source": [
    "import matplotlib.pyplot as plt\n",
    "cpu_device = torch.device(\"cpu\")"
   ]
  },
  {
   "cell_type": "code",
   "execution_count": 25,
   "id": "99155bbe",
   "metadata": {},
   "outputs": [
    {
     "data": {
      "text/plain": [
       "[<matplotlib.lines.Line2D at 0x7f16792490d0>]"
      ]
     },
     "execution_count": 25,
     "metadata": {},
     "output_type": "execute_result"
    },
    {
     "data": {
      "image/png": "[encoded data removed]",
      "text/plain": [
       "<Figure size 640x480 with 1 Axes>"
      ]
     },
     "metadata": {},
     "output_type": "display_data"
    }
   ],
   "source": [
    "plt.plot(torch.tensor(train_losses).to(cpu_device))"
   ]
  },
  {
   "cell_type": "code",
   "execution_count": 26,
   "id": "569a7875",
   "metadata": {},
   "outputs": [
    {
     "data": {
      "text/plain": [
       "[<matplotlib.lines.Line2D at 0x7f160dbcc990>]"
      ]
     },
     "execution_count": 26,
     "metadata": {},
     "output_type": "execute_result"
    },
    {
     "data": {
      "image/png": "[encoded data removed]",
      "text/plain": [
       "<Figure size 640x480 with 1 Axes>"
      ]
     },
     "metadata": {},
     "output_type": "display_data"
    }
   ],
   "source": [
    "plt.plot(torch.tensor(dev_losses).to(cpu_device))"
   ]
  },
  {
   "cell_type": "code",
   "execution_count": null,
   "id": "0bbcaba9",
   "metadata": {},
   "outputs": [],
   "source": []
  },
  {
   "cell_type": "markdown",
   "id": "5121e972",
   "metadata": {},
   "source": [
    "### Extras"
   ]
  },
  {
   "cell_type": "code",
   "execution_count": null,
   "id": "606e7f4e",
   "metadata": {},
   "outputs": [],
   "source": [
    "model.train()\n",
    "epochs = 3\n",
    "\n",
    "loop=tqdm(enumerate(train_dataloader),leave=False,total=len(train_dataloader))\n",
    "train_losses = []\n",
    "dev_losses = []\n",
    "for epoch in range(epochs):\n",
    "    print(epoch)\n",
    "    for batch, dl in loop:\n",
    "        ids, token_type_ids, mask, label = dl['ids'], dl['token_type_ids'], dl['mask'], dl['target']\n",
    "\n",
    "        label = label.unsqueeze(1) # 1D to 2D ex: (B,) -> (B, 1)\n",
    "        optimizer.zero_grad()\n",
    "\n",
    "        output=model(ids=ids,mask=mask,token_type_ids=token_type_ids)\n",
    "        label = label.type_as(output)\n",
    "\n",
    "        loss=loss_fn(output,label)\n",
    "        loss.backward()\n",
    "        train_losses.append(loss)\n",
    "\n",
    "        optimizer.step()\n",
    "        pred = torch.where(output >= 0, 1, 0)\n",
    "\n",
    "        accuracy = Accuracy(task = \"binary\").to(device)(pred, label)\n",
    "\n",
    "        # Show progress while training\n",
    "        loop.set_description(f'Epoch={epoch}/{epochs}')\n",
    "        loop.set_postfix(loss=loss.item(),acc=accuracy)\n",
    "    \n"
   ]
  },
  {
   "cell_type": "code",
   "execution_count": null,
   "id": "394fc300",
   "metadata": {},
   "outputs": [],
   "source": [
    "# dev dataset\n",
    "loop=tqdm(enumerate(dev_dataloader),leave=False,total=len(dev_dataloader))\n",
    "total_matches = 0\n",
    "with torch.no_grad():\n",
    "    for batch, dl in loop:\n",
    "        ids, token_type_ids, mask, label = dl['ids'], dl['token_type_ids'], dl['mask'], dl['target']\n",
    "\n",
    "        label = label.unsqueeze(1) # 1D to 2D ex: (B,) -> (B, 1)\n",
    "#         optimizer.zero_grad()\n",
    "\n",
    "        output=model(ids=ids,mask=mask,token_type_ids=token_type_ids)\n",
    "        label = label.type_as(output)\n",
    "\n",
    "        loss=loss_fn(output,label)\n",
    "#         loss.backward()\n",
    "        dev_losses.append(loss)\n",
    "\n",
    "#         optimizer.step()\n",
    "        pred = torch.where(output >= 0, 1, 0)\n",
    "\n",
    "        matches = torch.sum(pred == label)\n",
    "        total_matches += matches.item()\n",
    "\n",
    "        # Show progress while training\n",
    "        loop.set_description(f'Epoch={epoch}/{epochs}')\n",
    "        loop.set_postfix(loss=loss.item(),acc=accuracy)\n",
    "\n",
    "\n",
    "    print(f\"Validation Accuracy :{epoch} - {total_matches/len(dev_dataset)}\")    "
   ]
  },
  {
   "cell_type": "code",
   "execution_count": 145,
   "id": "0f76d616",
   "metadata": {},
   "outputs": [
    {
     "name": "stderr",
     "output_type": "stream",
     "text": [
      "  0%|          | 0/14 [00:00<?, ?it/s]/home/karm/miniconda3/envs/torch310/lib/python3.11/site-packages/transformers/tokenization_utils_base.py:2418: FutureWarning: The `pad_to_max_length` argument is deprecated and will be removed in a future version, use `padding=True` or `padding='longest'` to pad to the longest sequence in the batch, or use `padding='max_length'` to pad to a max length. In this case, you can give a specific length with `max_length` (e.g. `max_length=45`) or leave max_length to None to pad to the maximal input size of the model (e.g. 512 for Bert).\n",
      "  warnings.warn(\n",
      "                                                                                                           "
     ]
    },
    {
     "name": "stdout",
     "output_type": "stream",
     "text": [
      "0.5538990825688074\n"
     ]
    },
    {
     "name": "stderr",
     "output_type": "stream",
     "text": [
      "\r"
     ]
    }
   ],
   "source": [
    "model.train()\n",
    "epochs = epoch = 1\n",
    "loop=tqdm(enumerate(dev_dataloader),leave=False,total=len(dev_dataloader))\n",
    "\n",
    "losses = torch.tensor([0]*len(dev_dataloader))\n",
    "total_matches = 0\n",
    "for batch, dl in loop:\n",
    "    ids, token_type_ids, mask, label = dl['ids'], dl['token_type_ids'], dl['mask'], dl['target']\n",
    "\n",
    "    label = label.unsqueeze(1) # 1D to 2D ex: (B,) -> (B, 1)\n",
    "    optimizer.zero_grad()\n",
    "\n",
    "    output=model(ids=ids,mask=mask,token_type_ids=token_type_ids)\n",
    "    label = label.type_as(output)\n",
    "\n",
    "    loss=loss_fn(output,label)\n",
    "    loss.backward()\n",
    "    losses[batch] = loss\n",
    "\n",
    "    optimizer.step()\n",
    "    pred = torch.where(output >= 0, 1, 0)\n",
    "\n",
    "    matches = torch.sum(pred == label)\n",
    "    total_matches += matches.item()\n",
    "\n",
    "    # Show progress while training\n",
    "    loop.set_description(f'Epoch={epoch}/{epochs}')\n",
    "    loop.set_postfix(loss=loss.item(),acc=accuracy)\n",
    "\n",
    "print(total_matches/len(dev_dataset))"
   ]
  },
  {
   "cell_type": "code",
   "execution_count": 146,
   "id": "5974c066",
   "metadata": {},
   "outputs": [
    {
     "data": {
      "text/plain": [
       "tensor(0.6917, device='cuda:0', grad_fn=<MeanBackward0>)"
      ]
     },
     "execution_count": 146,
     "metadata": {},
     "output_type": "execute_result"
    }
   ],
   "source": [
    "torch.mean(loss)"
   ]
  },
  {
   "cell_type": "code",
   "execution_count": 137,
   "id": "ede5eee7",
   "metadata": {},
   "outputs": [
    {
     "data": {
      "text/plain": [
       "tensor(0.4219, device='cuda:0')"
      ]
     },
     "execution_count": 137,
     "metadata": {},
     "output_type": "execute_result"
    }
   ],
   "source": [
    "Accuracy(task=\"binary\").to(device)(pred, label)"
   ]
  },
  {
   "cell_type": "code",
   "execution_count": 131,
   "id": "aae9dda2",
   "metadata": {},
   "outputs": [
    {
     "data": {
      "text/plain": [
       "torch.float32"
      ]
     },
     "execution_count": 131,
     "metadata": {},
     "output_type": "execute_result"
    }
   ],
   "source": [
    "label.dtype"
   ]
  },
  {
   "cell_type": "code",
   "execution_count": null,
   "id": "acfac2a1",
   "metadata": {},
   "outputs": [],
   "source": [
    "acc_obj."
   ]
  },
  {
   "cell_type": "code",
   "execution_count": 27,
   "id": "613af635",
   "metadata": {},
   "outputs": [],
   "source": [
    "def finetune(epochs,dataloader,model,loss_fn,optimizer):\n",
    "    model.train()\n",
    "    for epoch in range(epochs):\n",
    "        print(epoch)\n",
    "        \n",
    "        loop=tqdm(enumerate(dataloader),leave=False,total=len(dataloader))\n",
    "        for batch, dl in loop:\n",
    "            ids=dl['ids']\n",
    "            token_type_ids=dl['token_type_ids']\n",
    "            mask= dl['mask']\n",
    "            label=dl['target']\n",
    "            label = label.unsqueeze(1)\n",
    "            \n",
    "            optimizer.zero_grad()\n",
    "            \n",
    "            output=model(ids=ids,mask=mask,token_type_ids=token_type_ids)\n",
    "            label = label.type_as(output)\n",
    "\n",
    "            loss=loss_fn(output,label)\n",
    "            loss.backward()\n",
    "            \n",
    "            optimizer.step()\n",
    "            pred = torch.where(output >= 0, 1, 0)\n",
    "            \n",
    "\n",
    "            num_correct = sum(1 for a, b in zip(pred, label) if a[0] == b[0])\n",
    "            num_samples = pred.shape[0]\n",
    "            accuracy = num_correct/num_samples\n",
    "            \n",
    "            \n",
    "            # Show progress while training\n",
    "            loop.set_description(f'Epoch={epoch}/{epochs}')\n",
    "            loop.set_postfix(loss=loss.item(),acc=accuracy)\n",
    "    \n",
    "    return model"
   ]
  },
  {
   "cell_type": "code",
   "execution_count": 147,
   "id": "eccd28c2",
   "metadata": {},
   "outputs": [
    {
     "name": "stderr",
     "output_type": "stream",
     "text": [
      "  0%|          | 0/1053 [00:00<?, ?it/s]/home/karm/miniconda3/envs/torch310/lib/python3.11/site-packages/transformers/tokenization_utils_base.py:2418: FutureWarning: The `pad_to_max_length` argument is deprecated and will be removed in a future version, use `padding=True` or `padding='longest'` to pad to the longest sequence in the batch, or use `padding='max_length'` to pad to a max length. In this case, you can give a specific length with `max_length` (e.g. `max_length=45`) or leave max_length to None to pad to the maximal input size of the model (e.g. 512 for Bert).\n",
      "  warnings.warn(\n"
     ]
    },
    {
     "name": "stdout",
     "output_type": "stream",
     "text": [
      "0\n"
     ]
    },
    {
     "name": "stderr",
     "output_type": "stream",
     "text": [
      "                                                                                                              \r"
     ]
    },
    {
     "ename": "KeyboardInterrupt",
     "evalue": "",
     "output_type": "error",
     "traceback": [
      "\u001b[0;31m---------------------------------------------------------------------------\u001b[0m",
      "\u001b[0;31mKeyboardInterrupt\u001b[0m                         Traceback (most recent call last)",
      "Cell \u001b[0;32mIn[147], line 25\u001b[0m\n\u001b[1;32m     22\u001b[0m optimizer\u001b[38;5;241m.\u001b[39mstep()\n\u001b[1;32m     23\u001b[0m pred \u001b[38;5;241m=\u001b[39m torch\u001b[38;5;241m.\u001b[39mwhere(output \u001b[38;5;241m>\u001b[39m\u001b[38;5;241m=\u001b[39m \u001b[38;5;241m0\u001b[39m, \u001b[38;5;241m1\u001b[39m, \u001b[38;5;241m0\u001b[39m)\n\u001b[0;32m---> 25\u001b[0m accuracy \u001b[38;5;241m=\u001b[39m Accuracy(task \u001b[38;5;241m=\u001b[39m \u001b[38;5;124m\"\u001b[39m\u001b[38;5;124mbinary\u001b[39m\u001b[38;5;124m\"\u001b[39m)\u001b[38;5;241m.\u001b[39mto(device)(pred, label)\n\u001b[1;32m     27\u001b[0m \u001b[38;5;66;03m# Show progress while training\u001b[39;00m\n\u001b[1;32m     28\u001b[0m loop\u001b[38;5;241m.\u001b[39mset_description(\u001b[38;5;124mf\u001b[39m\u001b[38;5;124m'\u001b[39m\u001b[38;5;124mEpoch=\u001b[39m\u001b[38;5;132;01m{\u001b[39;00mepoch\u001b[38;5;132;01m}\u001b[39;00m\u001b[38;5;124m/\u001b[39m\u001b[38;5;132;01m{\u001b[39;00mepochs\u001b[38;5;132;01m}\u001b[39;00m\u001b[38;5;124m'\u001b[39m)\n",
      "File \u001b[0;32m~/miniconda3/envs/torch310/lib/python3.11/site-packages/torch/nn/modules/module.py:1145\u001b[0m, in \u001b[0;36mModule.to\u001b[0;34m(self, *args, **kwargs)\u001b[0m\n\u001b[1;32m   1141\u001b[0m         \u001b[38;5;28;01mreturn\u001b[39;00m t\u001b[38;5;241m.\u001b[39mto(device, dtype \u001b[38;5;28;01mif\u001b[39;00m t\u001b[38;5;241m.\u001b[39mis_floating_point() \u001b[38;5;129;01mor\u001b[39;00m t\u001b[38;5;241m.\u001b[39mis_complex() \u001b[38;5;28;01melse\u001b[39;00m \u001b[38;5;28;01mNone\u001b[39;00m,\n\u001b[1;32m   1142\u001b[0m                     non_blocking, memory_format\u001b[38;5;241m=\u001b[39mconvert_to_format)\n\u001b[1;32m   1143\u001b[0m     \u001b[38;5;28;01mreturn\u001b[39;00m t\u001b[38;5;241m.\u001b[39mto(device, dtype \u001b[38;5;28;01mif\u001b[39;00m t\u001b[38;5;241m.\u001b[39mis_floating_point() \u001b[38;5;129;01mor\u001b[39;00m t\u001b[38;5;241m.\u001b[39mis_complex() \u001b[38;5;28;01melse\u001b[39;00m \u001b[38;5;28;01mNone\u001b[39;00m, non_blocking)\n\u001b[0;32m-> 1145\u001b[0m \u001b[38;5;28;01mreturn\u001b[39;00m \u001b[38;5;28mself\u001b[39m\u001b[38;5;241m.\u001b[39m_apply(convert)\n",
      "File \u001b[0;32m~/miniconda3/envs/torch310/lib/python3.11/site-packages/torchmetrics/metric.py:792\u001b[0m, in \u001b[0;36mMetric._apply\u001b[0;34m(self, fn, exclude_state)\u001b[0m\n\u001b[1;32m    789\u001b[0m     \u001b[38;5;28;01mcontinue\u001b[39;00m\n\u001b[1;32m    791\u001b[0m \u001b[38;5;28;01mif\u001b[39;00m \u001b[38;5;28misinstance\u001b[39m(value, Tensor):\n\u001b[0;32m--> 792\u001b[0m     this\u001b[38;5;241m.\u001b[39m_defaults[key] \u001b[38;5;241m=\u001b[39m fn(value)\n\u001b[1;32m    793\u001b[0m \u001b[38;5;28;01melif\u001b[39;00m \u001b[38;5;28misinstance\u001b[39m(value, Sequence):\n\u001b[1;32m    794\u001b[0m     this\u001b[38;5;241m.\u001b[39m_defaults[key] \u001b[38;5;241m=\u001b[39m [fn(v) \u001b[38;5;28;01mfor\u001b[39;00m v \u001b[38;5;129;01min\u001b[39;00m value]\n",
      "File \u001b[0;32m~/miniconda3/envs/torch310/lib/python3.11/site-packages/torch/nn/modules/module.py:1143\u001b[0m, in \u001b[0;36mModule.to.<locals>.convert\u001b[0;34m(t)\u001b[0m\n\u001b[1;32m   1140\u001b[0m \u001b[38;5;28;01mif\u001b[39;00m convert_to_format \u001b[38;5;129;01mis\u001b[39;00m \u001b[38;5;129;01mnot\u001b[39;00m \u001b[38;5;28;01mNone\u001b[39;00m \u001b[38;5;129;01mand\u001b[39;00m t\u001b[38;5;241m.\u001b[39mdim() \u001b[38;5;129;01min\u001b[39;00m (\u001b[38;5;241m4\u001b[39m, \u001b[38;5;241m5\u001b[39m):\n\u001b[1;32m   1141\u001b[0m     \u001b[38;5;28;01mreturn\u001b[39;00m t\u001b[38;5;241m.\u001b[39mto(device, dtype \u001b[38;5;28;01mif\u001b[39;00m t\u001b[38;5;241m.\u001b[39mis_floating_point() \u001b[38;5;129;01mor\u001b[39;00m t\u001b[38;5;241m.\u001b[39mis_complex() \u001b[38;5;28;01melse\u001b[39;00m \u001b[38;5;28;01mNone\u001b[39;00m,\n\u001b[1;32m   1142\u001b[0m                 non_blocking, memory_format\u001b[38;5;241m=\u001b[39mconvert_to_format)\n\u001b[0;32m-> 1143\u001b[0m \u001b[38;5;28;01mreturn\u001b[39;00m t\u001b[38;5;241m.\u001b[39mto(device, dtype \u001b[38;5;28;01mif\u001b[39;00m t\u001b[38;5;241m.\u001b[39mis_floating_point() \u001b[38;5;129;01mor\u001b[39;00m t\u001b[38;5;241m.\u001b[39mis_complex() \u001b[38;5;28;01melse\u001b[39;00m \u001b[38;5;28;01mNone\u001b[39;00m, non_blocking)\n",
      "\u001b[0;31mKeyboardInterrupt\u001b[0m: "
     ]
    }
   ],
   "source": []
  },
  {
   "cell_type": "code",
   "execution_count": 29,
   "id": "53264f95",
   "metadata": {},
   "outputs": [],
   "source": [
    "model=finetune(5, dataloader, model, loss_fn, optimizer)"
   ]
  }
 ],
 "metadata": {
  "kernelspec": {
   "display_name": "Python 3",
   "language": "python",
   "name": "python3"
  },
  "language_info": {
   "codemirror_mode": {
    "name": "ipython",
    "version": 3
   },
   "file_extension": ".py",
   "mimetype": "text/x-python",
   "name": "python",
   "nbconvert_exporter": "python",
   "pygments_lexer": "ipython3",
   "version": "3.8.10"
  }
 },
 "nbformat": 4,
 "nbformat_minor": 5
}
